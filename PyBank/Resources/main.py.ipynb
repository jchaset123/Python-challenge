{
 "cells": [
  {
   "cell_type": "code",
   "execution_count": null,
   "metadata": {},
   "outputs": [],
   "source": [
    "# use budget_data to analyze data\n",
    "#The total number of months included in the dataset\n",
    "#The net total amount of \"Profit/Losses\" over the entire period\n",
    "#The average of the changes in \"Profit/Losses\" over the entire period\n",
    "#The greatest increase in profits (date and amount) over the entire period\n",
    "#The greatest decrease in losses (date and amount) over the entire period"
   ]
  },
  {
   "cell_type": "code",
   "execution_count": 8,
   "metadata": {},
   "outputs": [],
   "source": [
    "import os\n",
    "import csv"
   ]
  },
  {
   "cell_type": "code",
   "execution_count": 20,
   "metadata": {},
   "outputs": [],
   "source": [
    "# set csv path\n",
    "budget_data = os.path.join('..','Resources','budget_data.csv')"
   ]
  },
  {
   "cell_type": "code",
   "execution_count": 81,
   "metadata": {},
   "outputs": [],
   "source": [
    "# open and read the csv file\n",
    "# with open(budget_data,'r') as csvfile:\n",
    "\n",
    "total_months = 0\n",
    "month_of_change = []\n",
    "net_change_list = []\n",
    "greatest_increase = [\"\", 0]\n",
    "greatest_decrease = [\"\", 99999999999999999999]\n",
    "total_net = 0\n",
    "\n",
    "with open(budget_data, newline = \"\") as csvfile:\n",
    "    csvreader = csv.reader(csvfile, delimiter = \",\")\n",
    "    # read header row\n",
    "    csv_header = next(csvreader)\n",
    "    \n",
    "    #read to check changes\n",
    "    first_row = next(csvreader)\n",
    "    total_months = total_months + 1\n",
    "    total_pl = total_net + int(first_row[1])\n",
    "    value = int(first_row[1])\n",
    "    \n",
    "    for row in csvreader:\n",
    "        # track dates\n",
    "        month_of_change.append(row[0])\n",
    "\n",
    "        #calculate change and add list of changes\n",
    "        change =int(row[1])-value\n",
    "        net_change_list.append(change)\n",
    "        value = int(row[1])\n",
    "        \n",
    "        #total months\n",
    "        total_months += 1\n",
    "        \n",
    "        # total net pl\n",
    "        total_net = total_net + int(row[1])\n",
    "        \n",
    "        #Greatest increase in profits\n",
    "        greatest_increase = max(net_change_list)\n",
    "        greatest_index = net_change_list.index(greatest_increase)\n",
    "        greatest_date = month_of_change[greatest_index]\n",
    "        \n",
    "        #Greatest decrease in profits\n",
    "        greatest_decrease = min(net_change_list)\n",
    "        worst_index = net_change_list.index(greatest_decrease)\n",
    "        worst_date = month_of_change[worst_index]\n",
    "        \n",
    "        # average change in pl overall\n",
    "        avg_change = sum(net_change_list)/len(net_change_list)\n",
    "        \n",
    "        \n",
    "        \n",
    "        \n",
    "        \n",
    "        \n",
    "      \n",
    "        \n",
    "        \n",
    "  "
   ]
  },
  {
   "cell_type": "code",
   "execution_count": 92,
   "metadata": {},
   "outputs": [
    {
     "name": "stdout",
     "output_type": "stream",
     "text": [
      "Financial Analysis\n",
      "-----------------------------\n",
      "Total Months: 86\n",
      "Total: $37514694\n",
      "Average Change: $-2315.1176470588234\n",
      "Greatest Increase in Profits: Feb-2012 ($1926159)\n",
      "Gretest Decrease in Losses: Sep-2013 ($-2196167)\n"
     ]
    }
   ],
   "source": [
    "# print Financial Analysis in Terminal\n",
    "print(\"Financial Analysis\")\n",
    "print(\"-----------------------------\")\n",
    "print(f'Total Months: {total_months}')\n",
    "print(f'Total: ${total_net}')\n",
    "print(f'Average Change: ${avg_change}')\n",
    "print(f'Greatest Increase in Profits: {greatest_date} (${greatest_increase})')\n",
    "print(f'Gretest Decrease in Losses: {worst_date} (${greatest_decrease})')\n",
    "      \n"
   ]
  },
  {
   "cell_type": "code",
   "execution_count": 97,
   "metadata": {},
   "outputs": [],
   "source": [
    "# export file results\n",
    "budget_data = os.path.join('..','Resources','budget_data.csv')\n",
    "with open(budget_data, 'w') as outfile:\n",
    "    outfile.write(\"Financial Analysis\")\n",
    "    outfile.write(\"-----------------------------\\n\")\n",
    "    outfile.write(f'Total Months: {total_months}\\n')\n",
    "    outfile.write(f'Total: ${total_net}\\n')\n",
    "    outfile.write(f'Average Change: ${avg_change}\\n')\n",
    "    outfile.write(f'Greatest Increase in Profits: {greatest_date} (${greatest_increase})\\n')\n",
    "    outfile.write(f'Gretest Decrease in Losses: {worst_date} (${greatest_decrease})\\n')"
   ]
  },
  {
   "cell_type": "code",
   "execution_count": null,
   "metadata": {},
   "outputs": [],
   "source": []
  }
 ],
 "metadata": {
  "kernelspec": {
   "display_name": "Python 3",
   "language": "python",
   "name": "python3"
  },
  "language_info": {
   "codemirror_mode": {
    "name": "ipython",
    "version": 3
   },
   "file_extension": ".py",
   "mimetype": "text/x-python",
   "name": "python",
   "nbconvert_exporter": "python",
   "pygments_lexer": "ipython3",
   "version": "3.7.4"
  }
 },
 "nbformat": 4,
 "nbformat_minor": 2
}
