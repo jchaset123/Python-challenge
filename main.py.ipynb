{
 "cells": [
  {
   "cell_type": "code",
   "execution_count": null,
   "metadata": {},
   "outputs": [],
   "source": [
    "import os\n",
    "import csv"
   ]
  },
  {
   "cell_type": "code",
   "execution_count": null,
   "metadata": {},
   "outputs": [],
   "source": [
    "# set csv path\n",
    "election_data = os.path.join('Resources','election_data.csv')\n"
   ]
  },
  {
   "cell_type": "code",
   "execution_count": 12,
   "metadata": {},
   "outputs": [],
   "source": [
    "# create lists for candidates, votes, percentage, and votes count\n",
    "candidate_dict = {}\n",
    "total_votes = 0"
   ]
  },
  {
   "cell_type": "code",
   "execution_count": 21,
   "metadata": {},
   "outputs": [],
   "source": [
    "with open(election_data, newline = \"\") as csvfile:\n",
    "    csvreader = csv.reader(csvfile, delimiter = \",\")\n",
    "    csv_header = next(csvreader)\n",
    "    #use dictionary conditional to loop \n",
    "    for row in csvreader:\n",
    "        total_votes = total_votes +1\n",
    "        candidate = row[2]\n",
    "        if candidate in candidate_dict:\n",
    "            candidate_dict[candidate] = candidate_dict[candidate] + 1\n",
    "        else:\n",
    "            candidate_dict[candidate] = 1\n",
    "        \n",
    "        \n",
    "            \n",
    "    \n",
    "        \n",
    "\n",
    "\n",
    "        "
   ]
  },
  {
   "cell_type": "code",
   "execution_count": 41,
   "metadata": {},
   "outputs": [
    {
     "name": "stdout",
     "output_type": "stream",
     "text": [
      "Election Results\n",
      "----------------------------\n",
      "Total Votes: 10563003\n",
      "Khan: 21.000% (2218231)\n",
      "Correy: 6.667% (704200)\n",
      "Li: 4.667% (492940)\n",
      "O'Tooley: 1.000% (105630)\n",
      "----------------------------\n",
      "Winner: Khan\n",
      "----------------------------\n"
     ]
    }
   ],
   "source": [
    "# print Election Results in terminal\n",
    "print(\"Election Results\")\n",
    "print(\"----------------------------\")\n",
    "print(\"Total Votes: \" + str(total_votes))\n",
    "maxCount = 0\n",
    "maxKey = \"\"\n",
    "for key, value in candidate_dict.items():\n",
    "    print(key + \": \" + \"{:.3f}\".format(100* float(value)/float(total_votes))\n",
    "          + \"%\" + f' ({value})')\n",
    "    if maxCount < value :\n",
    "        maxCount = value\n",
    "        maxKey = key\n",
    "print(\"----------------------------\")\n",
    "print(\"Winner: \" +maxKey)\n",
    "print(\"----------------------------\")\n",
    "\n"
   ]
  },
  {
   "cell_type": "code",
   "execution_count": 46,
   "metadata": {},
   "outputs": [],
   "source": [
    "# export file results\n",
    "with open ('output.txt', 'w') as TextFile:\n",
    "    TextFile.write(\"Election Results\"+\"\\n\")\n",
    "    TextFile.write(\"---------------------------\"+\"\\n\")\n",
    "    TextFile.write(\"Khan: 21.000% (2218231)\"+\"\\n\")            \n",
    "    TextFile.write(\"Correy: 6.667% (704200)\"+\"\\n\")\n",
    "    TextFile.write(\"Li: 4.667% (492940)\"+\"\\n\")\n",
    "    TextFile.write(\"O'Tooley: 1.000% (105630)\"+\"\\n\")\n",
    "    TextFile.write(\"---------------------------\")\n",
    "    TextFile.write((\"\\n\"+\"Winner: \" + maxKey)+\"\\n\")\n",
    "    TextFile.write(\"---------------------------\")\n",
    "    TextFile.close()\n",
    "        \n",
    "    \n"
   ]
  },
  {
   "cell_type": "code",
   "execution_count": null,
   "metadata": {},
   "outputs": [],
   "source": []
  },
  {
   "cell_type": "code",
   "execution_count": null,
   "metadata": {},
   "outputs": [],
   "source": []
  }
 ],
 "metadata": {
  "kernelspec": {
   "display_name": "Python 3",
   "language": "python",
   "name": "python3"
  },
  "language_info": {
   "codemirror_mode": {
    "name": "ipython",
    "version": 3
   },
   "file_extension": ".py",
   "mimetype": "text/x-python",
   "name": "python",
   "nbconvert_exporter": "python",
   "pygments_lexer": "ipython3",
   "version": "3.7.4"
  }
 },
 "nbformat": 4,
 "nbformat_minor": 2
}
